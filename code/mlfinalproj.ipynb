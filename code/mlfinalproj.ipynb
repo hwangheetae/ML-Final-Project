{
 "cells": [
  {
   "cell_type": "code",
   "execution_count": 1,
   "id": "ca75bd3e",
   "metadata": {
    "execution": {
     "iopub.execute_input": "2023-12-19T14:05:46.638072Z",
     "iopub.status.busy": "2023-12-19T14:05:46.637574Z",
     "iopub.status.idle": "2023-12-19T14:05:47.118622Z",
     "shell.execute_reply": "2023-12-19T14:05:47.116968Z"
    },
    "papermill": {
     "duration": 0.491083,
     "end_time": "2023-12-19T14:05:47.121453",
     "exception": false,
     "start_time": "2023-12-19T14:05:46.630370",
     "status": "completed"
    },
    "tags": []
   },
   "outputs": [
    {
     "data": {
      "text/html": [
       "<div>\n",
       "<style scoped>\n",
       "    .dataframe tbody tr th:only-of-type {\n",
       "        vertical-align: middle;\n",
       "    }\n",
       "\n",
       "    .dataframe tbody tr th {\n",
       "        vertical-align: top;\n",
       "    }\n",
       "\n",
       "    .dataframe thead th {\n",
       "        text-align: right;\n",
       "    }\n",
       "</style>\n",
       "<table border=\"1\" class=\"dataframe\">\n",
       "  <thead>\n",
       "    <tr style=\"text-align: right;\">\n",
       "      <th></th>\n",
       "      <th>Date</th>\n",
       "      <th>Region</th>\n",
       "      <th>Birth</th>\n",
       "      <th>Birth_rate</th>\n",
       "      <th>Death</th>\n",
       "      <th>Death_rate</th>\n",
       "      <th>Divorce</th>\n",
       "      <th>Divorce_rate</th>\n",
       "      <th>Marriage</th>\n",
       "      <th>Marriage_rate</th>\n",
       "      <th>Natural_growth</th>\n",
       "      <th>Natural_growth_rate</th>\n",
       "    </tr>\n",
       "  </thead>\n",
       "  <tbody>\n",
       "    <tr>\n",
       "      <th>0</th>\n",
       "      <td>1/1/2000</td>\n",
       "      <td>Busan</td>\n",
       "      <td>3752.0</td>\n",
       "      <td>11.61</td>\n",
       "      <td>1875.0</td>\n",
       "      <td>5.8</td>\n",
       "      <td>814.0</td>\n",
       "      <td>2.5</td>\n",
       "      <td>2435.0</td>\n",
       "      <td>7.5</td>\n",
       "      <td>1877.0</td>\n",
       "      <td>5.8</td>\n",
       "    </tr>\n",
       "    <tr>\n",
       "      <th>1</th>\n",
       "      <td>1/1/2000</td>\n",
       "      <td>Chungcheongbuk-do</td>\n",
       "      <td>1903.0</td>\n",
       "      <td>15.06</td>\n",
       "      <td>924.0</td>\n",
       "      <td>7.3</td>\n",
       "      <td>220.0</td>\n",
       "      <td>1.7</td>\n",
       "      <td>828.0</td>\n",
       "      <td>6.6</td>\n",
       "      <td>979.0</td>\n",
       "      <td>7.7</td>\n",
       "    </tr>\n",
       "    <tr>\n",
       "      <th>2</th>\n",
       "      <td>1/1/2000</td>\n",
       "      <td>Chungcheongnam-do</td>\n",
       "      <td>2398.0</td>\n",
       "      <td>14.75</td>\n",
       "      <td>1466.0</td>\n",
       "      <td>9.0</td>\n",
       "      <td>321.0</td>\n",
       "      <td>2.0</td>\n",
       "      <td>1055.0</td>\n",
       "      <td>6.5</td>\n",
       "      <td>932.0</td>\n",
       "      <td>5.7</td>\n",
       "    </tr>\n",
       "    <tr>\n",
       "      <th>3</th>\n",
       "      <td>1/1/2000</td>\n",
       "      <td>Daegu</td>\n",
       "      <td>3057.0</td>\n",
       "      <td>14.39</td>\n",
       "      <td>1117.0</td>\n",
       "      <td>5.3</td>\n",
       "      <td>422.0</td>\n",
       "      <td>2.0</td>\n",
       "      <td>1577.0</td>\n",
       "      <td>7.4</td>\n",
       "      <td>1940.0</td>\n",
       "      <td>9.1</td>\n",
       "    </tr>\n",
       "    <tr>\n",
       "      <th>4</th>\n",
       "      <td>1/1/2000</td>\n",
       "      <td>Daejeon</td>\n",
       "      <td>1859.0</td>\n",
       "      <td>16.08</td>\n",
       "      <td>565.0</td>\n",
       "      <td>4.9</td>\n",
       "      <td>280.0</td>\n",
       "      <td>2.4</td>\n",
       "      <td>868.0</td>\n",
       "      <td>7.5</td>\n",
       "      <td>1294.0</td>\n",
       "      <td>11.2</td>\n",
       "    </tr>\n",
       "  </tbody>\n",
       "</table>\n",
       "</div>"
      ],
      "text/plain": [
       "       Date             Region   Birth  Birth_rate   Death  Death_rate  \\\n",
       "0  1/1/2000              Busan  3752.0       11.61  1875.0         5.8   \n",
       "1  1/1/2000  Chungcheongbuk-do  1903.0       15.06   924.0         7.3   \n",
       "2  1/1/2000  Chungcheongnam-do  2398.0       14.75  1466.0         9.0   \n",
       "3  1/1/2000              Daegu  3057.0       14.39  1117.0         5.3   \n",
       "4  1/1/2000            Daejeon  1859.0       16.08   565.0         4.9   \n",
       "\n",
       "   Divorce  Divorce_rate  Marriage  Marriage_rate  Natural_growth  \\\n",
       "0    814.0           2.5    2435.0            7.5          1877.0   \n",
       "1    220.0           1.7     828.0            6.6           979.0   \n",
       "2    321.0           2.0    1055.0            6.5           932.0   \n",
       "3    422.0           2.0    1577.0            7.4          1940.0   \n",
       "4    280.0           2.4     868.0            7.5          1294.0   \n",
       "\n",
       "   Natural_growth_rate  \n",
       "0                  5.8  \n",
       "1                  7.7  \n",
       "2                  5.7  \n",
       "3                  9.1  \n",
       "4                 11.2  "
      ]
     },
     "execution_count": 1,
     "metadata": {},
     "output_type": "execute_result"
    }
   ],
   "source": [
    "import pandas as pd\n",
    "data = pd.read_csv(\"/kaggle/input/korean-demographics-20002022/Korean_demographics_2000-2022.csv\")\n",
    "data.head()"
   ]
  },
  {
   "cell_type": "code",
   "execution_count": 2,
   "id": "c1698b9e",
   "metadata": {
    "execution": {
     "iopub.execute_input": "2023-12-19T14:05:47.133845Z",
     "iopub.status.busy": "2023-12-19T14:05:47.133074Z",
     "iopub.status.idle": "2023-12-19T14:05:47.194593Z",
     "shell.execute_reply": "2023-12-19T14:05:47.193177Z"
    },
    "papermill": {
     "duration": 0.070463,
     "end_time": "2023-12-19T14:05:47.197230",
     "exception": false,
     "start_time": "2023-12-19T14:05:47.126767",
     "status": "completed"
    },
    "tags": []
   },
   "outputs": [
    {
     "name": "stdout",
     "output_type": "stream",
     "text": [
      "<class 'pandas.core.frame.DataFrame'>\n",
      "RangeIndex: 4860 entries, 0 to 4859\n",
      "Data columns (total 12 columns):\n",
      " #   Column               Non-Null Count  Dtype  \n",
      "---  ------               --------------  -----  \n",
      " 0   Date                 4860 non-null   object \n",
      " 1   Region               4860 non-null   object \n",
      " 2   Birth                4716 non-null   float64\n",
      " 3   Birth_rate           4709 non-null   float64\n",
      " 4   Death                4716 non-null   float64\n",
      " 5   Death_rate           4709 non-null   float64\n",
      " 6   Divorce              4716 non-null   float64\n",
      " 7   Divorce_rate         4709 non-null   float64\n",
      " 8   Marriage             4716 non-null   float64\n",
      " 9   Marriage_rate        4709 non-null   float64\n",
      " 10  Natural_growth       4716 non-null   float64\n",
      " 11  Natural_growth_rate  4709 non-null   float64\n",
      "dtypes: float64(10), object(2)\n",
      "memory usage: 455.8+ KB\n"
     ]
    },
    {
     "data": {
      "text/plain": [
       "(              Birth   Birth_rate         Death   Death_rate       Divorce  \\\n",
       " count   4716.000000  4709.000000   4716.000000  4709.000000   4716.000000   \n",
       " mean    4138.169635     8.737872   2556.818066     5.857528   1130.374894   \n",
       " std     8450.112413     2.358128   5029.234791     1.589019   2287.594278   \n",
       " min       67.000000     3.100000     52.000000     3.100000     10.000000   \n",
       " 25%     1004.750000     7.210000    692.500000     4.500000    278.000000   \n",
       " 50%     1431.500000     8.830000   1149.000000     5.600000    392.000000   \n",
       " 75%     2327.000000    10.070000   1721.000000     7.000000    651.250000   \n",
       " max    61644.000000    18.770000  44487.000000    15.700000  15517.000000   \n",
       " \n",
       "        Divorce_rate      Marriage  Marriage_rate  Natural_growth  \\\n",
       " count   4709.000000   4716.000000    4709.000000     4716.000000   \n",
       " mean       2.351391   2786.632952       5.608452     1581.350085   \n",
       " std        0.486523   5784.566575       1.458931     4157.926276   \n",
       " min        0.800000     37.000000       2.400000   -21562.000000   \n",
       " 25%        2.000000    630.000000       4.600000      105.750000   \n",
       " 50%        2.300000    908.500000       5.500000      444.500000   \n",
       " 75%        2.600000   1535.250000       6.500000      941.000000   \n",
       " max        5.000000  46099.000000      12.400000    38286.000000   \n",
       " \n",
       "        Natural_growth_rate  \n",
       " count          4709.000000  \n",
       " mean              2.880442  \n",
       " std               3.263017  \n",
       " min             -11.200000  \n",
       " 25%               0.700000  \n",
       " 50%               2.900000  \n",
       " 75%               5.200000  \n",
       " max              13.700000  ,\n",
       " None)"
      ]
     },
     "execution_count": 2,
     "metadata": {},
     "output_type": "execute_result"
    }
   ],
   "source": [
    "data_description = data.describe()\n",
    "data_info = data.info()\n",
    "\n",
    "data_description, data_info"
   ]
  },
  {
   "cell_type": "code",
   "execution_count": 3,
   "id": "8e66ab2b",
   "metadata": {
    "execution": {
     "iopub.execute_input": "2023-12-19T14:05:47.210408Z",
     "iopub.status.busy": "2023-12-19T14:05:47.210001Z",
     "iopub.status.idle": "2023-12-19T14:05:47.249840Z",
     "shell.execute_reply": "2023-12-19T14:05:47.248160Z"
    },
    "papermill": {
     "duration": 0.04998,
     "end_time": "2023-12-19T14:05:47.252852",
     "exception": false,
     "start_time": "2023-12-19T14:05:47.202872",
     "status": "completed"
    },
    "tags": []
   },
   "outputs": [
    {
     "name": "stdout",
     "output_type": "stream",
     "text": [
      "<class 'pandas.core.frame.DataFrame'>\n",
      "RangeIndex: 4860 entries, 0 to 4859\n",
      "Data columns (total 12 columns):\n",
      " #   Column               Non-Null Count  Dtype         \n",
      "---  ------               --------------  -----         \n",
      " 0   Date                 4860 non-null   datetime64[ns]\n",
      " 1   Region               4860 non-null   object        \n",
      " 2   Birth                4860 non-null   float64       \n",
      " 3   Birth_rate           4860 non-null   float64       \n",
      " 4   Death                4860 non-null   float64       \n",
      " 5   Death_rate           4860 non-null   float64       \n",
      " 6   Divorce              4860 non-null   float64       \n",
      " 7   Divorce_rate         4860 non-null   float64       \n",
      " 8   Marriage             4860 non-null   float64       \n",
      " 9   Marriage_rate        4860 non-null   float64       \n",
      " 10  Natural_growth       4860 non-null   float64       \n",
      " 11  Natural_growth_rate  4860 non-null   float64       \n",
      "dtypes: datetime64[ns](1), float64(10), object(1)\n",
      "memory usage: 455.8+ KB\n"
     ]
    }
   ],
   "source": [
    "import pandas as pd\n",
    "numerical_columns = data.select_dtypes(include=['float64']).columns\n",
    "data[numerical_columns] = data[numerical_columns].fillna(data[numerical_columns].median())\n",
    "\n",
    "data['Date'] = pd.to_datetime(data['Date'])\n",
    "\n",
    "data.info()"
   ]
  },
  {
   "cell_type": "code",
   "execution_count": 4,
   "id": "65a088ea",
   "metadata": {
    "execution": {
     "iopub.execute_input": "2023-12-19T14:05:47.265697Z",
     "iopub.status.busy": "2023-12-19T14:05:47.265255Z",
     "iopub.status.idle": "2023-12-19T14:05:47.286803Z",
     "shell.execute_reply": "2023-12-19T14:05:47.285868Z"
    },
    "papermill": {
     "duration": 0.0307,
     "end_time": "2023-12-19T14:05:47.289014",
     "exception": false,
     "start_time": "2023-12-19T14:05:47.258314",
     "status": "completed"
    },
    "tags": []
   },
   "outputs": [
    {
     "name": "stdout",
     "output_type": "stream",
     "text": [
      "         Date  Region   Birth  Birth_rate   Death  Death_rate  Divorce  \\\n",
      "14 2000-01-01  Sejong  1431.5        8.83  1149.0         5.6    392.0   \n",
      "32 2000-02-01  Sejong  1431.5        8.83  1149.0         5.6    392.0   \n",
      "50 2000-03-01  Sejong  1431.5        8.83  1149.0         5.6    392.0   \n",
      "68 2000-04-01  Sejong  1431.5        8.83  1149.0         5.6    392.0   \n",
      "86 2000-05-01  Sejong  1431.5        8.83  1149.0         5.6    392.0   \n",
      "\n",
      "    Divorce_rate  Marriage  Marriage_rate  Natural_growth  Natural_growth_rate  \n",
      "14           2.3     908.5            5.5           444.5                  2.9  \n",
      "32           2.3     908.5            5.5           444.5                  2.9  \n",
      "50           2.3     908.5            5.5           444.5                  2.9  \n",
      "68           2.3     908.5            5.5           444.5                  2.9  \n",
      "86           2.3     908.5            5.5           444.5                  2.9  \n"
     ]
    }
   ],
   "source": [
    "sejong_filter = (data['Region'] == 'Sejong') & (data.isnull().any(axis=1))\n",
    "data_without_sejong = data[~sejong_filter]\n",
    "print(data_without_sejong[data_without_sejong['Region'] == 'Sejong'].head())"
   ]
  },
  {
   "cell_type": "code",
   "execution_count": 5,
   "id": "48b839fe",
   "metadata": {
    "execution": {
     "iopub.execute_input": "2023-12-19T14:05:47.302849Z",
     "iopub.status.busy": "2023-12-19T14:05:47.301556Z",
     "iopub.status.idle": "2023-12-19T14:05:49.352110Z",
     "shell.execute_reply": "2023-12-19T14:05:49.351071Z"
    },
    "papermill": {
     "duration": 2.060131,
     "end_time": "2023-12-19T14:05:49.354828",
     "exception": false,
     "start_time": "2023-12-19T14:05:47.294697",
     "status": "completed"
    },
    "tags": []
   },
   "outputs": [
    {
     "data": {
      "image/png": "[encoded data removed]",
      "text/plain": [
       "<Figure size 800x600 with 2 Axes>"
      ]
     },
     "metadata": {},
     "output_type": "display_data"
    }
   ],
   "source": [
    "import seaborn as sns\n",
    "import matplotlib.pyplot as plt\n",
    "\n",
    "relevant_columns = ['Birth_rate', 'Death_rate', 'Divorce_rate', 'Marriage_rate']\n",
    "subset_data = data[relevant_columns]\n",
    "\n",
    "correlation_matrix = subset_data.corr()\n",
    "plt.figure(figsize=(8, 6))\n",
    "sns.heatmap(correlation_matrix, annot=True, cmap='coolwarm', fmt=\".2f\")\n",
    "plt.title('Correlation Matrix of Birth Rate and Other Variables')\n",
    "plt.show()\n"
   ]
  },
  {
   "cell_type": "code",
   "execution_count": 6,
   "id": "2ad6f793",
   "metadata": {
    "execution": {
     "iopub.execute_input": "2023-12-19T14:05:49.370251Z",
     "iopub.status.busy": "2023-12-19T14:05:49.369601Z",
     "iopub.status.idle": "2023-12-19T14:05:49.373947Z",
     "shell.execute_reply": "2023-12-19T14:05:49.372970Z"
    },
    "papermill": {
     "duration": 0.015193,
     "end_time": "2023-12-19T14:05:49.376361",
     "exception": false,
     "start_time": "2023-12-19T14:05:49.361168",
     "status": "completed"
    },
    "tags": []
   },
   "outputs": [],
   "source": [
    "data= data_without_sejong"
   ]
  },
  {
   "cell_type": "code",
   "execution_count": 7,
   "id": "e8302043",
   "metadata": {
    "execution": {
     "iopub.execute_input": "2023-12-19T14:05:49.392275Z",
     "iopub.status.busy": "2023-12-19T14:05:49.391632Z",
     "iopub.status.idle": "2023-12-19T14:05:49.412513Z",
     "shell.execute_reply": "2023-12-19T14:05:49.411318Z"
    },
    "papermill": {
     "duration": 0.032236,
     "end_time": "2023-12-19T14:05:49.415408",
     "exception": false,
     "start_time": "2023-12-19T14:05:49.383172",
     "status": "completed"
    },
    "tags": []
   },
   "outputs": [
    {
     "data": {
      "text/html": [
       "<div>\n",
       "<style scoped>\n",
       "    .dataframe tbody tr th:only-of-type {\n",
       "        vertical-align: middle;\n",
       "    }\n",
       "\n",
       "    .dataframe tbody tr th {\n",
       "        vertical-align: top;\n",
       "    }\n",
       "\n",
       "    .dataframe thead th {\n",
       "        text-align: right;\n",
       "    }\n",
       "</style>\n",
       "<table border=\"1\" class=\"dataframe\">\n",
       "  <thead>\n",
       "    <tr style=\"text-align: right;\">\n",
       "      <th></th>\n",
       "      <th>Death</th>\n",
       "      <th>Death_rate</th>\n",
       "      <th>Divorce</th>\n",
       "      <th>Divorce_rate</th>\n",
       "      <th>Marriage</th>\n",
       "      <th>Marriage_rate</th>\n",
       "    </tr>\n",
       "  </thead>\n",
       "  <tbody>\n",
       "    <tr>\n",
       "      <th>0</th>\n",
       "      <td>1875.0</td>\n",
       "      <td>5.8</td>\n",
       "      <td>814.0</td>\n",
       "      <td>2.5</td>\n",
       "      <td>2435.0</td>\n",
       "      <td>7.5</td>\n",
       "    </tr>\n",
       "    <tr>\n",
       "      <th>1</th>\n",
       "      <td>924.0</td>\n",
       "      <td>7.3</td>\n",
       "      <td>220.0</td>\n",
       "      <td>1.7</td>\n",
       "      <td>828.0</td>\n",
       "      <td>6.6</td>\n",
       "    </tr>\n",
       "    <tr>\n",
       "      <th>2</th>\n",
       "      <td>1466.0</td>\n",
       "      <td>9.0</td>\n",
       "      <td>321.0</td>\n",
       "      <td>2.0</td>\n",
       "      <td>1055.0</td>\n",
       "      <td>6.5</td>\n",
       "    </tr>\n",
       "    <tr>\n",
       "      <th>3</th>\n",
       "      <td>1117.0</td>\n",
       "      <td>5.3</td>\n",
       "      <td>422.0</td>\n",
       "      <td>2.0</td>\n",
       "      <td>1577.0</td>\n",
       "      <td>7.4</td>\n",
       "    </tr>\n",
       "    <tr>\n",
       "      <th>4</th>\n",
       "      <td>565.0</td>\n",
       "      <td>4.9</td>\n",
       "      <td>280.0</td>\n",
       "      <td>2.4</td>\n",
       "      <td>868.0</td>\n",
       "      <td>7.5</td>\n",
       "    </tr>\n",
       "    <tr>\n",
       "      <th>...</th>\n",
       "      <td>...</td>\n",
       "      <td>...</td>\n",
       "      <td>...</td>\n",
       "      <td>...</td>\n",
       "      <td>...</td>\n",
       "      <td>...</td>\n",
       "    </tr>\n",
       "    <tr>\n",
       "      <th>4855</th>\n",
       "      <td>1369.0</td>\n",
       "      <td>9.1</td>\n",
       "      <td>299.0</td>\n",
       "      <td>2.0</td>\n",
       "      <td>479.0</td>\n",
       "      <td>3.2</td>\n",
       "    </tr>\n",
       "    <tr>\n",
       "      <th>4856</th>\n",
       "      <td>106.0</td>\n",
       "      <td>3.4</td>\n",
       "      <td>43.0</td>\n",
       "      <td>1.4</td>\n",
       "      <td>123.0</td>\n",
       "      <td>3.9</td>\n",
       "    </tr>\n",
       "    <tr>\n",
       "      <th>4857</th>\n",
       "      <td>3631.0</td>\n",
       "      <td>4.7</td>\n",
       "      <td>1088.0</td>\n",
       "      <td>1.4</td>\n",
       "      <td>2630.0</td>\n",
       "      <td>3.4</td>\n",
       "    </tr>\n",
       "    <tr>\n",
       "      <th>4858</th>\n",
       "      <td>434.0</td>\n",
       "      <td>4.7</td>\n",
       "      <td>154.0</td>\n",
       "      <td>1.7</td>\n",
       "      <td>316.0</td>\n",
       "      <td>3.5</td>\n",
       "    </tr>\n",
       "    <tr>\n",
       "      <th>4859</th>\n",
       "      <td>24850.0</td>\n",
       "      <td>5.9</td>\n",
       "      <td>7586.0</td>\n",
       "      <td>1.8</td>\n",
       "      <td>14898.0</td>\n",
       "      <td>3.5</td>\n",
       "    </tr>\n",
       "  </tbody>\n",
       "</table>\n",
       "<p>4860 rows × 6 columns</p>\n",
       "</div>"
      ],
      "text/plain": [
       "        Death  Death_rate  Divorce  Divorce_rate  Marriage  Marriage_rate\n",
       "0      1875.0         5.8    814.0           2.5    2435.0            7.5\n",
       "1       924.0         7.3    220.0           1.7     828.0            6.6\n",
       "2      1466.0         9.0    321.0           2.0    1055.0            6.5\n",
       "3      1117.0         5.3    422.0           2.0    1577.0            7.4\n",
       "4       565.0         4.9    280.0           2.4     868.0            7.5\n",
       "...       ...         ...      ...           ...       ...            ...\n",
       "4855   1369.0         9.1    299.0           2.0     479.0            3.2\n",
       "4856    106.0         3.4     43.0           1.4     123.0            3.9\n",
       "4857   3631.0         4.7   1088.0           1.4    2630.0            3.4\n",
       "4858    434.0         4.7    154.0           1.7     316.0            3.5\n",
       "4859  24850.0         5.9   7586.0           1.8   14898.0            3.5\n",
       "\n",
       "[4860 rows x 6 columns]"
      ]
     },
     "execution_count": 7,
     "metadata": {},
     "output_type": "execute_result"
    }
   ],
   "source": [
    "X = data.drop(['Birth_rate','Region','Date','Birth','Natural_growth','Natural_growth_rate'], axis=1)\n",
    "y = data['Birth_rate']\n",
    "X"
   ]
  },
  {
   "cell_type": "code",
   "execution_count": 8,
   "id": "de06af65",
   "metadata": {
    "execution": {
     "iopub.execute_input": "2023-12-19T14:05:49.431042Z",
     "iopub.status.busy": "2023-12-19T14:05:49.430611Z",
     "iopub.status.idle": "2023-12-19T14:05:49.449974Z",
     "shell.execute_reply": "2023-12-19T14:05:49.448731Z"
    },
    "papermill": {
     "duration": 0.030295,
     "end_time": "2023-12-19T14:05:49.452619",
     "exception": false,
     "start_time": "2023-12-19T14:05:49.422324",
     "status": "completed"
    },
    "tags": []
   },
   "outputs": [
    {
     "name": "stdout",
     "output_type": "stream",
     "text": [
      "<class 'pandas.core.frame.DataFrame'>\n",
      "Index: 2916 entries, 2162 to 2548\n",
      "Data columns (total 6 columns):\n",
      " #   Column         Non-Null Count  Dtype  \n",
      "---  ------         --------------  -----  \n",
      " 0   Death          2916 non-null   float64\n",
      " 1   Death_rate     2916 non-null   float64\n",
      " 2   Divorce        2916 non-null   float64\n",
      " 3   Divorce_rate   2916 non-null   float64\n",
      " 4   Marriage       2916 non-null   float64\n",
      " 5   Marriage_rate  2916 non-null   float64\n",
      "dtypes: float64(6)\n",
      "memory usage: 159.5 KB\n"
     ]
    }
   ],
   "source": [
    "import pandas as pd\n",
    "import numpy as np\n",
    "\n",
    "def MYtrain_test_split(X, y, test_size=0.2):\n",
    "\n",
    "    if not 0 < test_size < 1:\n",
    "        raise ValueError(\"테스트사이즈는 0 과 1 사이여야함.\")\n",
    "    assert X.index.equals(y.index), \"The indices of X and y should be aligned.\"\n",
    "\n",
    "    shuffled_indices = np.random.permutation(len(X))\n",
    "\n",
    "    test_set_size = int(len(X) * test_size)\n",
    "    test_indices = shuffled_indices[:test_set_size]\n",
    "    train_indices = shuffled_indices[test_set_size:]\n",
    "\n",
    "    X_train = X.iloc[train_indices]\n",
    "    X_test = X.iloc[test_indices]\n",
    "    y_train = y.iloc[train_indices]\n",
    "    y_test = y.iloc[test_indices]\n",
    "\n",
    "    return X_train, X_test, y_train, y_test\n",
    "\n",
    "X_train, X_test, y_train, y_test = MYtrain_test_split(X, y, test_size=0.2)\n",
    "X_train, X_val, y_train, y_val = MYtrain_test_split(X_train, y_train, test_size=0.25) # 0.25 x 0.8 = 0.2\n",
    "X_train.info()"
   ]
  },
  {
   "cell_type": "code",
   "execution_count": 9,
   "id": "81a2b95e",
   "metadata": {
    "execution": {
     "iopub.execute_input": "2023-12-19T14:05:49.468952Z",
     "iopub.status.busy": "2023-12-19T14:05:49.468236Z",
     "iopub.status.idle": "2023-12-19T14:05:49.476852Z",
     "shell.execute_reply": "2023-12-19T14:05:49.475677Z"
    },
    "papermill": {
     "duration": 0.019435,
     "end_time": "2023-12-19T14:05:49.479051",
     "exception": false,
     "start_time": "2023-12-19T14:05:49.459616",
     "status": "completed"
    },
    "tags": []
   },
   "outputs": [],
   "source": [
    "import numpy as np\n",
    "\n",
    "class MYLinearRegression:\n",
    "    def __init__(self):\n",
    "        self.weights = None\n",
    "\n",
    "    def fit(self, X, y):\n",
    "        X_b = np.c_[np.ones((X.shape[0], 1)), X]\n",
    "        self.weights = np.linalg.inv(X_b.T.dot(X_b)).dot(X_b.T).dot(y)\n",
    "\n",
    "    def predict(self, X):\n",
    "        X_b = np.c_[np.ones((X.shape[0], 1)), X]\n",
    "        return X_b.dot(self.weights)\n",
    "\n",
    "    def score(self, X, y):\n",
    "        y_pred = self.predict(X)\n",
    "        ss_tot = np.sum((y - y.mean()) ** 2)\n",
    "        ss_res = np.sum((y - y_pred) ** 2)\n",
    "        r2 = 1 - (ss_res / ss_tot)\n",
    "        return r2\n"
   ]
  },
  {
   "cell_type": "code",
   "execution_count": 10,
   "id": "f7568f6a",
   "metadata": {
    "execution": {
     "iopub.execute_input": "2023-12-19T14:05:49.494738Z",
     "iopub.status.busy": "2023-12-19T14:05:49.494343Z",
     "iopub.status.idle": "2023-12-19T14:05:49.504709Z",
     "shell.execute_reply": "2023-12-19T14:05:49.503489Z"
    },
    "papermill": {
     "duration": 0.022682,
     "end_time": "2023-12-19T14:05:49.508766",
     "exception": false,
     "start_time": "2023-12-19T14:05:49.486084",
     "status": "completed"
    },
    "tags": []
   },
   "outputs": [],
   "source": [
    "model = MYLinearRegression()\n",
    "model.fit(X_train, y_train)"
   ]
  },
  {
   "cell_type": "code",
   "execution_count": 11,
   "id": "c1961393",
   "metadata": {
    "execution": {
     "iopub.execute_input": "2023-12-19T14:05:49.534188Z",
     "iopub.status.busy": "2023-12-19T14:05:49.533518Z",
     "iopub.status.idle": "2023-12-19T14:05:49.551542Z",
     "shell.execute_reply": "2023-12-19T14:05:49.550392Z"
    },
    "papermill": {
     "duration": 0.034108,
     "end_time": "2023-12-19T14:05:49.554908",
     "exception": false,
     "start_time": "2023-12-19T14:05:49.520800",
     "status": "completed"
    },
    "tags": []
   },
   "outputs": [
    {
     "data": {
      "text/plain": [
       "(0.334, 0.32947)"
      ]
     },
     "execution_count": 11,
     "metadata": {},
     "output_type": "execute_result"
    }
   ],
   "source": [
    "predictions = model.predict(X_test)\n",
    "r2_test = model.score(X_test, y_test)\n",
    "\n",
    "validations= model.predict(X_val)\n",
    "r2_val= model.score(X_val, y_val)\n",
    "\n",
    "round(r2_test,5),round(r2_val,5)\n"
   ]
  },
  {
   "cell_type": "code",
   "execution_count": 12,
   "id": "eec87110",
   "metadata": {
    "execution": {
     "iopub.execute_input": "2023-12-19T14:05:49.579508Z",
     "iopub.status.busy": "2023-12-19T14:05:49.578970Z",
     "iopub.status.idle": "2023-12-19T14:05:50.064631Z",
     "shell.execute_reply": "2023-12-19T14:05:50.063326Z"
    },
    "papermill": {
     "duration": 0.500991,
     "end_time": "2023-12-19T14:05:50.067084",
     "exception": false,
     "start_time": "2023-12-19T14:05:49.566093",
     "status": "completed"
    },
    "tags": []
   },
   "outputs": [
    {
     "data": {
      "text/plain": [
       "0.35705"
      ]
     },
     "execution_count": 12,
     "metadata": {},
     "output_type": "execute_result"
    }
   ],
   "source": [
    "#Sklearn-LinearRegression\n",
    "from sklearn.linear_model import LinearRegression\n",
    "from sklearn.metrics import mean_squared_error, r2_score\n",
    "\n",
    "X_train, X_test, y_train, y_test = MYtrain_test_split(X, y, test_size=0.2)\n",
    "\n",
    "libmodel = LinearRegression()\n",
    "libmodel.fit(X_train, y_train)\n",
    "y_pred = libmodel.predict(X_test)\n",
    "mse = mean_squared_error(y_test, y_pred)\n",
    "r2 = r2_score(y_test, y_pred)\n",
    "round(r2,5)"
   ]
  },
  {
   "cell_type": "code",
   "execution_count": 13,
   "id": "59d8c040",
   "metadata": {
    "execution": {
     "iopub.execute_input": "2023-12-19T14:05:50.089678Z",
     "iopub.status.busy": "2023-12-19T14:05:50.089216Z",
     "iopub.status.idle": "2023-12-19T14:05:52.155443Z",
     "shell.execute_reply": "2023-12-19T14:05:52.154204Z"
    },
    "papermill": {
     "duration": 2.080277,
     "end_time": "2023-12-19T14:05:52.158087",
     "exception": false,
     "start_time": "2023-12-19T14:05:50.077810",
     "status": "completed"
    },
    "tags": []
   },
   "outputs": [
    {
     "data": {
      "text/plain": [
       "0.57676"
      ]
     },
     "execution_count": 13,
     "metadata": {},
     "output_type": "execute_result"
    }
   ],
   "source": [
    "#Sklearn-RandomForestRegressor\n",
    "from sklearn.ensemble import RandomForestRegressor\n",
    "from sklearn.metrics import mean_squared_error, r2_score\n",
    "random_forest_model = RandomForestRegressor(n_estimators=100, random_state=42)\n",
    "\n",
    "random_forest_model.fit(X_train, y_train)\n",
    "\n",
    "y_pred = random_forest_model.predict(X_test)\n",
    "mse = mean_squared_error(y_test, y_pred)\n",
    "r2 = r2_score(y_test, y_pred)\n",
    "round(r2,5)"
   ]
  },
  {
   "cell_type": "code",
   "execution_count": 14,
   "id": "94c86ca1",
   "metadata": {
    "execution": {
     "iopub.execute_input": "2023-12-19T14:05:52.174410Z",
     "iopub.status.busy": "2023-12-19T14:05:52.173982Z",
     "iopub.status.idle": "2023-12-19T14:05:53.165509Z",
     "shell.execute_reply": "2023-12-19T14:05:53.164308Z"
    },
    "papermill": {
     "duration": 1.003174,
     "end_time": "2023-12-19T14:05:53.168284",
     "exception": false,
     "start_time": "2023-12-19T14:05:52.165110",
     "status": "completed"
    },
    "tags": []
   },
   "outputs": [
    {
     "data": {
      "text/plain": [
       "0.26645"
      ]
     },
     "execution_count": 14,
     "metadata": {},
     "output_type": "execute_result"
    }
   ],
   "source": [
    "#Sklearn-SVM\n",
    "from sklearn.svm import SVR\n",
    "from sklearn.metrics import mean_squared_error, r2_score\n",
    "\n",
    "svm_model = SVR(kernel='rbf')\n",
    "svm_model.fit(X_train, y_train)\n",
    "y_pred = svm_model.predict(X_test)\n",
    "mse = mean_squared_error(y_test, y_pred)\n",
    "r2 = r2_score(y_test, y_pred)\n",
    "round(r2,5)"
   ]
  },
  {
   "cell_type": "code",
   "execution_count": 15,
   "id": "4c1613f5",
   "metadata": {
    "execution": {
     "iopub.execute_input": "2023-12-19T14:05:53.184315Z",
     "iopub.status.busy": "2023-12-19T14:05:53.183924Z",
     "iopub.status.idle": "2023-12-19T14:05:53.191692Z",
     "shell.execute_reply": "2023-12-19T14:05:53.190653Z"
    },
    "papermill": {
     "duration": 0.018761,
     "end_time": "2023-12-19T14:05:53.194072",
     "exception": false,
     "start_time": "2023-12-19T14:05:53.175311",
     "status": "completed"
    },
    "tags": []
   },
   "outputs": [
    {
     "data": {
      "text/plain": [
       "['my_model.pkl']"
      ]
     },
     "execution_count": 15,
     "metadata": {},
     "output_type": "execute_result"
    }
   ],
   "source": [
    "import joblib\n",
    "joblib.dump(model, 'my_model.pkl')"
   ]
  }
 ],
 "metadata": {
  "kaggle": {
   "accelerator": "none",
   "dataSources": [
    {
     "datasetId": 2480037,
     "sourceId": 4207696,
     "sourceType": "datasetVersion"
    }
   ],
   "dockerImageVersionId": 30626,
   "isGpuEnabled": false,
   "isInternetEnabled": true,
   "language": "python",
   "sourceType": "notebook"
  },
  "kernelspec": {
   "display_name": "Python 3",
   "language": "python",
   "name": "python3"
  },
  "language_info": {
   "codemirror_mode": {
    "name": "ipython",
    "version": 3
   },
   "file_extension": ".py",
   "mimetype": "text/x-python",
   "name": "python",
   "nbconvert_exporter": "python",
   "pygments_lexer": "ipython3",
   "version": "3.10.12"
  },
  "papermill": {
   "default_parameters": {},
   "duration": 10.612133,
   "end_time": "2023-12-19T14:05:53.960880",
   "environment_variables": {},
   "exception": null,
   "input_path": "__notebook__.ipynb",
   "output_path": "__notebook__.ipynb",
   "parameters": {},
   "start_time": "2023-12-19T14:05:43.348747",
   "version": "2.4.0"
  }
 },
 "nbformat": 4,
 "nbformat_minor": 5
}
